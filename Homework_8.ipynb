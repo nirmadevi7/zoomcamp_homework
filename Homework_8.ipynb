{
 "cells": [
  {
   "cell_type": "code",
   "execution_count": 1,
   "id": "88fc5001",
   "metadata": {},
   "outputs": [],
   "source": [
    "import os\n",
    "import numpy as np\n",
    "import matplotlib.pyplot as plt\n",
    "\n",
    "%matplotlib inline"
   ]
  },
  {
   "cell_type": "code",
   "execution_count": 2,
   "id": "e96267ac",
   "metadata": {},
   "outputs": [
    {
     "name": "stderr",
     "output_type": "stream",
     "text": [
      "2022-11-20 12:04:24.141631: I tensorflow/core/util/util.cc:169] oneDNN custom operations are on. You may see slightly different numerical results due to floating-point round-off errors from different computation orders. To turn them off, set the environment variable `TF_ENABLE_ONEDNN_OPTS=0`.\n"
     ]
    }
   ],
   "source": [
    "import tensorflow as tf\n",
    "from tensorflow import keras\n",
    "from tensorflow.keras import layers\n",
    "from tensorflow.keras import models\n",
    "from tensorflow.keras import optimizers\n",
    "\n",
    "from tensorflow.keras.preprocessing import image\n",
    "from tensorflow.keras.preprocessing.image import ImageDataGenerator"
   ]
  },
  {
   "cell_type": "code",
   "execution_count": 3,
   "id": "b4edf1de",
   "metadata": {},
   "outputs": [],
   "source": [
    "from tensorflow.keras.preprocessing.image import load_img\n",
    "from tensorflow.keras.preprocessing.image import ImageDataGenerator\n",
    "from tensorflow.keras.applications.xception import preprocess_input\n",
    "from tensorflow.keras.applications.xception import Xception\n",
    "from tensorflow.keras.applications.xception import decode_predictions"
   ]
  },
  {
   "cell_type": "code",
   "execution_count": 5,
   "id": "edde6865",
   "metadata": {},
   "outputs": [],
   "source": [
    "train_dir = './train'\n",
    "valid_dir = './test'"
   ]
  },
  {
   "cell_type": "code",
   "execution_count": 6,
   "id": "f20a66a1",
   "metadata": {},
   "outputs": [
    {
     "name": "stdout",
     "output_type": "stream",
     "text": [
      "Found 1594 images belonging to 2 classes.\n"
     ]
    }
   ],
   "source": [
    "train_gen = ImageDataGenerator(preprocessing_function=preprocess_input)\n",
    "\n",
    "train_ds = train_gen.flow_from_directory(\n",
    "    './train',\n",
    "    target_size=(150, 150),\n",
    "    batch_size=20,\n",
    "    class_mode='binary',\n",
    "    shuffle=False\n",
    ")"
   ]
  },
  {
   "cell_type": "code",
   "execution_count": 7,
   "id": "a73a1b2d",
   "metadata": {},
   "outputs": [
    {
     "data": {
      "text/plain": [
       "{'dino': 0, 'dragon': 1}"
      ]
     },
     "execution_count": 7,
     "metadata": {},
     "output_type": "execute_result"
    }
   ],
   "source": [
    "train_ds.class_indices"
   ]
  },
  {
   "cell_type": "code",
   "execution_count": 8,
   "id": "c29ea5ff",
   "metadata": {},
   "outputs": [
    {
     "name": "stdout",
     "output_type": "stream",
     "text": [
      "Found 394 images belonging to 2 classes.\n"
     ]
    }
   ],
   "source": [
    "val_gen = ImageDataGenerator(preprocessing_function=preprocess_input)\n",
    "\n",
    "val_ds = val_gen.flow_from_directory(\n",
    "    './test',\n",
    "    target_size=(150, 150),\n",
    "    batch_size=20,\n",
    "    class_mode='binary',\n",
    "    shuffle=False\n",
    ")"
   ]
  },
  {
   "cell_type": "code",
   "execution_count": 9,
   "id": "0b7909de",
   "metadata": {},
   "outputs": [
    {
     "data": {
      "text/plain": [
       "{'dino': 0, 'dragon': 1}"
      ]
     },
     "execution_count": 9,
     "metadata": {},
     "output_type": "execute_result"
    }
   ],
   "source": [
    "val_ds.class_indices"
   ]
  },
  {
   "cell_type": "code",
   "execution_count": 10,
   "id": "ade97147",
   "metadata": {},
   "outputs": [],
   "source": [
    "def make_model(loss_name):\n",
    "\n",
    "    model = models.Sequential()\n",
    "    model.add(layers.Conv2D(32, (3, 3), activation='relu',\n",
    "                            input_shape=(150, 150, 3)))\n",
    "    model.add(layers.MaxPooling2D((2, 2)))\n",
    "    model.add(layers.Flatten())\n",
    "    model.add(layers.Dense(64, activation='relu'))\n",
    "    model.add(layers.Dense(1, activation='sigmoid'))\n",
    "\n",
    "    model.compile(loss=loss_name,\\\n",
    "             optimizer=optimizers.SGD(learning_rate=0.002, momentum=0.8),\\\n",
    "             metrics=['accuracy'])\n",
    "    \n",
    "    return model"
   ]
  },
  {
   "cell_type": "markdown",
   "id": "df925f0d",
   "metadata": {},
   "source": [
    "## Q2 solution"
   ]
  },
  {
   "cell_type": "code",
   "execution_count": 14,
   "id": "5027baa2",
   "metadata": {},
   "outputs": [
    {
     "name": "stdout",
     "output_type": "stream",
     "text": [
      "Model: \"sequential_1\"\n",
      "_________________________________________________________________\n",
      " Layer (type)                Output Shape              Param #   \n",
      "=================================================================\n",
      " conv2d_1 (Conv2D)           (None, 148, 148, 32)      896       \n",
      "                                                                 \n",
      " max_pooling2d_1 (MaxPooling  (None, 74, 74, 32)       0         \n",
      " 2D)                                                             \n",
      "                                                                 \n",
      " flatten_1 (Flatten)         (None, 175232)            0         \n",
      "                                                                 \n",
      " dense_2 (Dense)             (None, 64)                11214912  \n",
      "                                                                 \n",
      " dense_3 (Dense)             (None, 1)                 65        \n",
      "                                                                 \n",
      "=================================================================\n",
      "Total params: 11,215,873\n",
      "Trainable params: 11,215,873\n",
      "Non-trainable params: 0\n",
      "_________________________________________________________________\n"
     ]
    }
   ],
   "source": [
    "model.summary()"
   ]
  },
  {
   "cell_type": "markdown",
   "id": "2e196294",
   "metadata": {},
   "source": [
    "## Q1 solution :  binary_crossentropy"
   ]
  },
  {
   "cell_type": "markdown",
   "id": "b8ec5f26",
   "metadata": {},
   "source": [
    "## binary_crossentropy\n",
    "Used as a loss function for binary classification model. The binary_crossentropy function computes the cross-entropy loss between true labels and predicted labels.\n",
    "\n",
    "## categorical_crossentropy\n",
    "Used as a loss function for multi-class classification model where there are two or more output labels. The output label is assigned one-hot category encoding value in form of 0s and 1. The output label, if present in integer form, is converted into categorical encoding using keras.utils to_categorical method."
   ]
  },
  {
   "cell_type": "markdown",
   "id": "f6833663",
   "metadata": {},
   "source": [
    "## Focal Loss function\n",
    "A Focal Loss function addresses class imbalance during training in tasks like object detection. Focal loss applies a modulating term to the cross entropy loss in order to focus learning on hard misclassified examples. It is a dynamically scaled cross entropy loss, where the scaling factor decays to zero as confidence in the correct class increases."
   ]
  },
  {
   "cell_type": "markdown",
   "id": "df17339e",
   "metadata": {},
   "source": [
    "## Mean Square Error Loss\n",
    "Mean Square Error Loss is also known a L2 regularization and is used for Regression tasks. It tells you how close a regression line is to a set of data points. It calculates the square difference between the current output and the expected output divided by the number of output"
   ]
  },
  {
   "cell_type": "code",
   "execution_count": 12,
   "id": "b16bf63d",
   "metadata": {},
   "outputs": [
    {
     "name": "stdout",
     "output_type": "stream",
     "text": [
      "<keras.losses.BinaryCrossentropy object at 0x7f35a9db27c0>\n"
     ]
    },
    {
     "name": "stderr",
     "output_type": "stream",
     "text": [
      "2022-11-20 12:04:58.950203: I tensorflow/stream_executor/cuda/cuda_gpu_executor.cc:975] successful NUMA node read from SysFS had negative value (-1), but there must be at least one NUMA node, so returning NUMA node zero\n",
      "2022-11-20 12:04:58.956863: I tensorflow/stream_executor/cuda/cuda_gpu_executor.cc:975] successful NUMA node read from SysFS had negative value (-1), but there must be at least one NUMA node, so returning NUMA node zero\n",
      "2022-11-20 12:04:58.957576: I tensorflow/stream_executor/cuda/cuda_gpu_executor.cc:975] successful NUMA node read from SysFS had negative value (-1), but there must be at least one NUMA node, so returning NUMA node zero\n",
      "2022-11-20 12:04:58.959527: I tensorflow/core/platform/cpu_feature_guard.cc:193] This TensorFlow binary is optimized with oneAPI Deep Neural Network Library (oneDNN) to use the following CPU instructions in performance-critical operations:  AVX2 AVX512F AVX512_VNNI FMA\n",
      "To enable them in other operations, rebuild TensorFlow with the appropriate compiler flags.\n",
      "2022-11-20 12:04:58.960005: I tensorflow/stream_executor/cuda/cuda_gpu_executor.cc:975] successful NUMA node read from SysFS had negative value (-1), but there must be at least one NUMA node, so returning NUMA node zero\n",
      "2022-11-20 12:04:58.960981: I tensorflow/stream_executor/cuda/cuda_gpu_executor.cc:975] successful NUMA node read from SysFS had negative value (-1), but there must be at least one NUMA node, so returning NUMA node zero\n",
      "2022-11-20 12:04:58.961865: I tensorflow/stream_executor/cuda/cuda_gpu_executor.cc:975] successful NUMA node read from SysFS had negative value (-1), but there must be at least one NUMA node, so returning NUMA node zero\n",
      "2022-11-20 12:04:59.648740: I tensorflow/stream_executor/cuda/cuda_gpu_executor.cc:975] successful NUMA node read from SysFS had negative value (-1), but there must be at least one NUMA node, so returning NUMA node zero\n",
      "2022-11-20 12:04:59.649434: I tensorflow/stream_executor/cuda/cuda_gpu_executor.cc:975] successful NUMA node read from SysFS had negative value (-1), but there must be at least one NUMA node, so returning NUMA node zero\n",
      "2022-11-20 12:04:59.650018: I tensorflow/stream_executor/cuda/cuda_gpu_executor.cc:975] successful NUMA node read from SysFS had negative value (-1), but there must be at least one NUMA node, so returning NUMA node zero\n",
      "2022-11-20 12:04:59.650542: I tensorflow/core/common_runtime/gpu/gpu_device.cc:1532] Created device /job:localhost/replica:0/task:0/device:GPU:0 with 13795 MB memory:  -> device: 0, name: Tesla T4, pci bus id: 0000:00:1e.0, compute capability: 7.5\n"
     ]
    },
    {
     "name": "stdout",
     "output_type": "stream",
     "text": [
      "Epoch 1/10\n"
     ]
    },
    {
     "name": "stderr",
     "output_type": "stream",
     "text": [
      "2022-11-20 12:05:01.419080: I tensorflow/stream_executor/cuda/cuda_dnn.cc:384] Loaded cuDNN version 8100\n",
      "2022-11-20 12:05:02.079641: I tensorflow/core/platform/default/subprocess.cc:304] Start cannot spawn child process: No such file or directory\n",
      "2022-11-20 12:05:02.080583: I tensorflow/core/platform/default/subprocess.cc:304] Start cannot spawn child process: No such file or directory\n",
      "2022-11-20 12:05:02.080619: W tensorflow/stream_executor/gpu/asm_compiler.cc:80] Couldn't get ptxas version string: INTERNAL: Couldn't invoke ptxas --version\n",
      "2022-11-20 12:05:02.081617: I tensorflow/core/platform/default/subprocess.cc:304] Start cannot spawn child process: No such file or directory\n",
      "2022-11-20 12:05:02.081703: W tensorflow/stream_executor/gpu/redzone_allocator.cc:314] INTERNAL: Failed to launch ptxas\n",
      "Relying on driver to perform ptx compilation. \n",
      "Modify $PATH to customize ptxas location.\n",
      "This message will be only logged once.\n"
     ]
    },
    {
     "name": "stdout",
     "output_type": "stream",
     "text": [
      "80/80 [==============================] - 13s 126ms/step - loss: 0.7503 - accuracy: 0.5082 - val_loss: 0.6917 - val_accuracy: 0.4975\n",
      "Epoch 2/10\n",
      "80/80 [==============================] - 9s 110ms/step - loss: 0.6906 - accuracy: 0.5194 - val_loss: 0.6798 - val_accuracy: 0.5076\n",
      "Epoch 3/10\n",
      "80/80 [==============================] - 9s 110ms/step - loss: 0.6776 - accuracy: 0.5652 - val_loss: 0.6865 - val_accuracy: 0.4975\n",
      "Epoch 4/10\n",
      "80/80 [==============================] - 9s 112ms/step - loss: 0.6271 - accuracy: 0.6851 - val_loss: 0.5143 - val_accuracy: 0.8122\n",
      "Epoch 5/10\n",
      "80/80 [==============================] - 9s 109ms/step - loss: 0.5387 - accuracy: 0.7516 - val_loss: 0.4985 - val_accuracy: 0.7614\n",
      "Epoch 6/10\n",
      "80/80 [==============================] - 9s 111ms/step - loss: 0.4422 - accuracy: 0.8068 - val_loss: 0.4066 - val_accuracy: 0.8274\n",
      "Epoch 7/10\n",
      "80/80 [==============================] - 9s 111ms/step - loss: 0.3743 - accuracy: 0.8407 - val_loss: 0.6476 - val_accuracy: 0.6954\n",
      "Epoch 8/10\n",
      "80/80 [==============================] - 9s 109ms/step - loss: 0.3577 - accuracy: 0.8432 - val_loss: 0.3577 - val_accuracy: 0.8477\n",
      "Epoch 9/10\n",
      "80/80 [==============================] - 9s 111ms/step - loss: 0.3266 - accuracy: 0.8676 - val_loss: 0.3765 - val_accuracy: 0.8299\n",
      "Epoch 10/10\n",
      "80/80 [==============================] - 9s 111ms/step - loss: 0.2723 - accuracy: 0.9015 - val_loss: 0.3439 - val_accuracy: 0.8350\n",
      "<keras.losses.CategoricalCrossentropy object at 0x7f35a9db2790>\n",
      "Epoch 1/10\n"
     ]
    },
    {
     "name": "stderr",
     "output_type": "stream",
     "text": [
      "/opt/saturncloud/envs/saturn/lib/python3.9/site-packages/tensorflow/python/util/dispatch.py:1082: UserWarning: \"`categorical_crossentropy` received `from_logits=True`, but the `output` argument was produced by a sigmoid or softmax activation and thus does not represent logits. Was this intended?\"\n",
      "  return dispatch_target(*args, **kwargs)\n"
     ]
    },
    {
     "name": "stdout",
     "output_type": "stream",
     "text": [
      "80/80 [==============================] - 9s 113ms/step - loss: nan - accuracy: 0.5113 - val_loss: nan - val_accuracy: 0.4975\n",
      "Epoch 2/10\n",
      "80/80 [==============================] - 9s 109ms/step - loss: nan - accuracy: 0.5188 - val_loss: nan - val_accuracy: 0.4975\n",
      "Epoch 3/10\n",
      "80/80 [==============================] - 9s 109ms/step - loss: nan - accuracy: 0.5188 - val_loss: nan - val_accuracy: 0.4975\n",
      "Epoch 4/10\n",
      "80/80 [==============================] - 9s 109ms/step - loss: nan - accuracy: 0.5188 - val_loss: nan - val_accuracy: 0.4975\n",
      "Epoch 5/10\n",
      "80/80 [==============================] - 9s 110ms/step - loss: nan - accuracy: 0.5188 - val_loss: nan - val_accuracy: 0.4975\n",
      "Epoch 6/10\n",
      "80/80 [==============================] - 9s 110ms/step - loss: nan - accuracy: 0.5188 - val_loss: nan - val_accuracy: 0.4975\n",
      "Epoch 7/10\n",
      "80/80 [==============================] - 9s 110ms/step - loss: nan - accuracy: 0.5188 - val_loss: nan - val_accuracy: 0.4975\n",
      "Epoch 8/10\n",
      "80/80 [==============================] - 9s 110ms/step - loss: nan - accuracy: 0.5188 - val_loss: nan - val_accuracy: 0.4975\n",
      "Epoch 9/10\n",
      "80/80 [==============================] - 9s 109ms/step - loss: nan - accuracy: 0.5188 - val_loss: nan - val_accuracy: 0.4975\n",
      "Epoch 10/10\n",
      "80/80 [==============================] - 9s 110ms/step - loss: nan - accuracy: 0.5188 - val_loss: nan - val_accuracy: 0.4975\n"
     ]
    }
   ],
   "source": [
    "loss1=tf.keras.losses.BinaryCrossentropy()\n",
    "loss2= tf.keras.losses.CategoricalCrossentropy(from_logits=True)\n",
    "\n",
    "losses = {}\n",
    "\n",
    "for lo in [loss1,loss2]:\n",
    "    print(lo)\n",
    "\n",
    "    model = make_model(loss_name=lo)\n",
    "    history = model.fit(train_ds, epochs=10, validation_data=val_ds)\n",
    "    losses[lo] = history.history\n"
   ]
  },
  {
   "cell_type": "code",
   "execution_count": 13,
   "id": "897bdb83",
   "metadata": {},
   "outputs": [
    {
     "data": {
      "text/plain": [
       "<matplotlib.legend.Legend at 0x7f3570602f70>"
      ]
     },
     "execution_count": 13,
     "metadata": {},
     "output_type": "execute_result"
    },
    {
     "data": {
      "image/png": "[encoded data removed]",
      "text/plain": [
       "<Figure size 640x480 with 1 Axes>"
      ]
     },
     "metadata": {},
     "output_type": "display_data"
    }
   ],
   "source": [
    "for lo, hist in losses.items():\n",
    "    plt.plot(hist['val_accuracy'], label=('val=%s' % lo))\n",
    "plt.xticks(np.arange(10))\n",
    "plt.legend()"
   ]
  },
  {
   "cell_type": "markdown",
   "id": "ae283929",
   "metadata": {},
   "source": [
    "## Q3 Solution"
   ]
  },
  {
   "cell_type": "code",
   "execution_count": 22,
   "id": "c3737982",
   "metadata": {},
   "outputs": [
    {
     "name": "stdout",
     "output_type": "stream",
     "text": [
      "Found 1594 images belonging to 2 classes.\n",
      "Found 394 images belonging to 2 classes.\n"
     ]
    }
   ],
   "source": [
    "train_gen = ImageDataGenerator(rescale=1./255)\n",
    "\n",
    "\n",
    "train_ds = train_gen.flow_from_directory(\n",
    "    './train',\n",
    "    target_size=(150, 150),\n",
    "    batch_size=20,\n",
    "    class_mode='binary',\n",
    "    shuffle=True\n",
    ")\n",
    "\n",
    "val_gen = ImageDataGenerator(rescale=1./255)\n",
    "\n",
    "val_ds = val_gen.flow_from_directory(\n",
    "    './test',\n",
    "    target_size=(150, 150),\n",
    "    batch_size=20,\n",
    "    class_mode='binary',\n",
    "    shuffle=True\n",
    ")"
   ]
  },
  {
   "cell_type": "code",
   "execution_count": 23,
   "id": "78fde6d8",
   "metadata": {},
   "outputs": [],
   "source": [
    "model = models.Sequential()\n",
    "model.add(layers.Conv2D(32, (3, 3), activation='relu',\n",
    "                        input_shape=(150, 150, 3)))\n",
    "model.add(layers.MaxPooling2D((2, 2)))\n",
    "model.add(layers.Flatten())\n",
    "model.add(layers.Dense(64, activation='relu'))\n",
    "model.add(layers.Dense(1, activation='sigmoid'))\n",
    "model.compile(loss='binary_crossentropy',\\\n",
    "             optimizer=optimizers.SGD(learning_rate=0.002, momentum=0.8),\\\n",
    "             metrics=['accuracy'])"
   ]
  },
  {
   "cell_type": "code",
   "execution_count": 24,
   "id": "a53ca67c",
   "metadata": {},
   "outputs": [
    {
     "name": "stdout",
     "output_type": "stream",
     "text": [
      "Epoch 1/10\n",
      "80/80 [==============================] - 9s 108ms/step - loss: 0.6182 - accuracy: 0.6650 - val_loss: 0.5089 - val_accuracy: 0.7640\n",
      "Epoch 2/10\n",
      "80/80 [==============================] - 8s 106ms/step - loss: 0.4672 - accuracy: 0.7892 - val_loss: 0.4065 - val_accuracy: 0.8401\n",
      "Epoch 3/10\n",
      "80/80 [==============================] - 8s 105ms/step - loss: 0.3904 - accuracy: 0.8400 - val_loss: 0.4418 - val_accuracy: 0.7792\n",
      "Epoch 4/10\n",
      "80/80 [==============================] - 9s 106ms/step - loss: 0.3381 - accuracy: 0.8614 - val_loss: 0.3744 - val_accuracy: 0.8147\n",
      "Epoch 5/10\n",
      "80/80 [==============================] - 8s 105ms/step - loss: 0.2948 - accuracy: 0.8883 - val_loss: 0.3074 - val_accuracy: 0.8680\n",
      "Epoch 6/10\n",
      "80/80 [==============================] - 8s 106ms/step - loss: 0.2778 - accuracy: 0.8896 - val_loss: 0.3425 - val_accuracy: 0.8426\n",
      "Epoch 7/10\n",
      "80/80 [==============================] - 9s 106ms/step - loss: 0.2446 - accuracy: 0.9141 - val_loss: 0.2974 - val_accuracy: 0.8731\n",
      "Epoch 8/10\n",
      "80/80 [==============================] - 8s 105ms/step - loss: 0.2061 - accuracy: 0.9316 - val_loss: 0.2768 - val_accuracy: 0.8731\n",
      "Epoch 9/10\n",
      "80/80 [==============================] - 8s 105ms/step - loss: 0.1794 - accuracy: 0.9423 - val_loss: 0.3009 - val_accuracy: 0.8756\n",
      "Epoch 10/10\n",
      "80/80 [==============================] - 9s 107ms/step - loss: 0.1653 - accuracy: 0.9448 - val_loss: 0.4131 - val_accuracy: 0.8020\n"
     ]
    }
   ],
   "source": [
    "history = model.fit(train_ds, epochs=10, validation_data=val_ds)"
   ]
  },
  {
   "cell_type": "markdown",
   "id": "1c519104",
   "metadata": {},
   "source": [
    "## Q3 solution"
   ]
  },
  {
   "cell_type": "code",
   "execution_count": 25,
   "id": "217d8c28",
   "metadata": {},
   "outputs": [
    {
     "data": {
      "text/plain": [
       "0.888958603143692"
      ]
     },
     "execution_count": 25,
     "metadata": {},
     "output_type": "execute_result"
    }
   ],
   "source": [
    "import statistics\n",
    "statistics.median(history.history[\"accuracy\"])"
   ]
  },
  {
   "cell_type": "markdown",
   "id": "c05e0006",
   "metadata": {},
   "source": [
    "## Q4 Solution"
   ]
  },
  {
   "cell_type": "code",
   "execution_count": 26,
   "id": "dac82573",
   "metadata": {},
   "outputs": [
    {
     "data": {
      "text/plain": [
       "0.14166364885138927"
      ]
     },
     "execution_count": 26,
     "metadata": {},
     "output_type": "execute_result"
    }
   ],
   "source": [
    "statistics.stdev(history.history[\"loss\"])"
   ]
  },
  {
   "cell_type": "code",
   "execution_count": 37,
   "id": "376bfd7b",
   "metadata": {},
   "outputs": [],
   "source": [
    "train_datagen = ImageDataGenerator(\n",
    "    rotation_range=40,\n",
    "    width_shift_range=0.2,\n",
    "    height_shift_range=0.2,\n",
    "    shear_range=0.2,\n",
    "    zoom_range=0.2,\n",
    "    horizontal_flip=True,\n",
    "    fill_mode='nearest')"
   ]
  },
  {
   "cell_type": "code",
   "execution_count": 38,
   "id": "ef595b53",
   "metadata": {},
   "outputs": [],
   "source": [
    "test_datagen = ImageDataGenerator(rescale=1./255)"
   ]
  },
  {
   "cell_type": "code",
   "execution_count": 39,
   "id": "70853434",
   "metadata": {},
   "outputs": [
    {
     "name": "stdout",
     "output_type": "stream",
     "text": [
      "Found 1594 images belonging to 2 classes.\n"
     ]
    }
   ],
   "source": [
    "train_generator = train_datagen.flow_from_directory(train_dir,\n",
    "                                                    target_size=(150, 150), \n",
    "                                                    batch_size=20, \n",
    "                                                    class_mode='binary',\n",
    "                                                    shuffle=True\n",
    "                                                    )"
   ]
  },
  {
   "cell_type": "code",
   "execution_count": 42,
   "id": "fcd61ef0",
   "metadata": {},
   "outputs": [
    {
     "name": "stdout",
     "output_type": "stream",
     "text": [
      "Found 394 images belonging to 2 classes.\n"
     ]
    }
   ],
   "source": [
    "validation_generator = test_datagen.flow_from_directory(\n",
    "    valid_dir,\n",
    "    target_size=(150, 150),\n",
    "    batch_size=32,\n",
    "    class_mode='binary',\n",
    "    shuffle=True)"
   ]
  },
  {
   "cell_type": "code",
   "execution_count": 46,
   "id": "1b460c0f",
   "metadata": {},
   "outputs": [
    {
     "name": "stdout",
     "output_type": "stream",
     "text": [
      "Epoch 1/10\n",
      "80/80 [==============================] - 9s 108ms/step - loss: 0.6304 - accuracy: 0.6330 - val_loss: 0.5155 - val_accuracy: 0.7716\n",
      "Epoch 2/10\n",
      "80/80 [==============================] - 9s 106ms/step - loss: 0.4657 - accuracy: 0.7974 - val_loss: 0.4753 - val_accuracy: 0.7919\n",
      "Epoch 3/10\n",
      "80/80 [==============================] - 9s 107ms/step - loss: 0.3812 - accuracy: 0.8400 - val_loss: 0.3674 - val_accuracy: 0.8376\n",
      "Epoch 4/10\n",
      "80/80 [==============================] - 9s 106ms/step - loss: 0.3369 - accuracy: 0.8601 - val_loss: 0.3938 - val_accuracy: 0.8122\n",
      "Epoch 5/10\n",
      "80/80 [==============================] - 8s 105ms/step - loss: 0.3153 - accuracy: 0.8739 - val_loss: 0.3320 - val_accuracy: 0.8629\n",
      "Epoch 6/10\n",
      "80/80 [==============================] - 8s 105ms/step - loss: 0.2782 - accuracy: 0.8915 - val_loss: 0.3520 - val_accuracy: 0.8503\n",
      "Epoch 7/10\n",
      "80/80 [==============================] - 9s 106ms/step - loss: 0.2564 - accuracy: 0.9040 - val_loss: 0.3888 - val_accuracy: 0.8173\n",
      "Epoch 8/10\n",
      "80/80 [==============================] - 9s 107ms/step - loss: 0.2174 - accuracy: 0.9235 - val_loss: 0.2937 - val_accuracy: 0.8782\n",
      "Epoch 9/10\n",
      "80/80 [==============================] - 9s 107ms/step - loss: 0.1939 - accuracy: 0.9366 - val_loss: 0.3361 - val_accuracy: 0.8452\n",
      "Epoch 10/10\n",
      "80/80 [==============================] - 9s 107ms/step - loss: 0.1675 - accuracy: 0.9479 - val_loss: 0.2966 - val_accuracy: 0.8832\n"
     ]
    }
   ],
   "source": [
    "model = make_model(loss_name=tf.keras.losses.BinaryCrossentropy())\n",
    "history = model.fit(train_ds, epochs=10, validation_data=val_ds)"
   ]
  },
  {
   "cell_type": "markdown",
   "id": "99fb6996",
   "metadata": {},
   "source": [
    "## Q5 Solution"
   ]
  },
  {
   "cell_type": "code",
   "execution_count": 49,
   "id": "43d98b19",
   "metadata": {},
   "outputs": [
    {
     "data": {
      "text/plain": [
       "0.37511796951293946"
      ]
     },
     "execution_count": 49,
     "metadata": {},
     "output_type": "execute_result"
    }
   ],
   "source": [
    "statistics.mean(history.history[\"val_loss\"])"
   ]
  },
  {
   "cell_type": "markdown",
   "id": "8ea8f205",
   "metadata": {},
   "source": [
    "## Q6 Solution"
   ]
  },
  {
   "cell_type": "code",
   "execution_count": 59,
   "id": "eb7bbce7",
   "metadata": {},
   "outputs": [
    {
     "data": {
      "text/plain": [
       "[0.8502538204193115,\n",
       " 0.817258894443512,\n",
       " 0.8781725764274597,\n",
       " 0.8451776504516602,\n",
       " 0.8832487463951111]"
      ]
     },
     "execution_count": 59,
     "metadata": {},
     "output_type": "execute_result"
    }
   ],
   "source": [
    "history.history[\"val_accuracy\"][5:]"
   ]
  },
  {
   "cell_type": "code",
   "execution_count": 60,
   "id": "b4938aaa",
   "metadata": {},
   "outputs": [
    {
     "data": {
      "text/plain": [
       "0.8548223376274109"
      ]
     },
     "execution_count": 60,
     "metadata": {},
     "output_type": "execute_result"
    }
   ],
   "source": [
    "statistics.mean(history.history[\"val_accuracy\"][5:])"
   ]
  },
  {
   "cell_type": "code",
   "execution_count": null,
   "id": "5ac78155",
   "metadata": {},
   "outputs": [],
   "source": []
  }
 ],
 "metadata": {
  "kernelspec": {
   "display_name": "saturn (Python 3)",
   "language": "python",
   "name": "python3"
  },
  "language_info": {
   "codemirror_mode": {
    "name": "ipython",
    "version": 3
   },
   "file_extension": ".py",
   "mimetype": "text/x-python",
   "name": "python",
   "nbconvert_exporter": "python",
   "pygments_lexer": "ipython3",
   "version": "3.9.13"
  }
 },
 "nbformat": 4,
 "nbformat_minor": 5
}
