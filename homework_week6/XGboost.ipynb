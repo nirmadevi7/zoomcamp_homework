{
  "nbformat": 4,
  "nbformat_minor": 0,
  "metadata": {
    "colab": {
      "provenance": []
    },
    "kernelspec": {
      "name": "python3",
      "display_name": "Python 3"
    },
    "language_info": {
      "name": "python"
    }
  },
  "cells": [
    {
      "cell_type": "code",
      "execution_count": 1,
      "metadata": {
        "colab": {
          "base_uri": "https://localhost:8080/"
        },
        "id": "OxprRCSmA5hh",
        "outputId": "aeb78d8f-bd3e-4533-ec82-53ff82cfc9ef"
      },
      "outputs": [
        {
          "output_type": "stream",
          "name": "stdout",
          "text": [
            "Looking in indexes: https://pypi.org/simple, https://us-python.pkg.dev/colab-wheels/public/simple/\n",
            "Requirement already satisfied: xgboost in /usr/local/lib/python3.7/dist-packages (0.90)\n",
            "Requirement already satisfied: scipy in /usr/local/lib/python3.7/dist-packages (from xgboost) (1.7.3)\n",
            "Requirement already satisfied: numpy in /usr/local/lib/python3.7/dist-packages (from xgboost) (1.21.6)\n"
          ]
        }
      ],
      "source": [
        "!pip install xgboost"
      ]
    },
    {
      "cell_type": "code",
      "source": [
        "!wget https://raw.githubusercontent.com/alexeygrigorev/datasets/master/housing.csv"
      ],
      "metadata": {
        "colab": {
          "base_uri": "https://localhost:8080/"
        },
        "id": "ixW-ZujfBEU8",
        "outputId": "90fc7a96-c369-4b65-baae-c2b392f2a4a4"
      },
      "execution_count": 3,
      "outputs": [
        {
          "output_type": "stream",
          "name": "stdout",
          "text": [
            "--2022-10-14 05:43:21--  https://raw.githubusercontent.com/alexeygrigorev/datasets/master/housing.csv\n",
            "Resolving raw.githubusercontent.com (raw.githubusercontent.com)... 185.199.108.133, 185.199.109.133, 185.199.110.133, ...\n",
            "Connecting to raw.githubusercontent.com (raw.githubusercontent.com)|185.199.108.133|:443... connected.\n",
            "HTTP request sent, awaiting response... 200 OK\n",
            "Length: 1423529 (1.4M) [text/plain]\n",
            "Saving to: ‘housing.csv’\n",
            "\n",
            "\rhousing.csv           0%[                    ]       0  --.-KB/s               \rhousing.csv         100%[===================>]   1.36M  --.-KB/s    in 0.009s  \n",
            "\n",
            "2022-10-14 05:43:21 (156 MB/s) - ‘housing.csv’ saved [1423529/1423529]\n",
            "\n"
          ]
        }
      ]
    },
    {
      "cell_type": "code",
      "source": [
        "import xgboost as xgb"
      ],
      "metadata": {
        "id": "6DEAc5k7BKDK"
      },
      "execution_count": 4,
      "outputs": []
    },
    {
      "cell_type": "code",
      "source": [
        "import pandas as pd\n",
        "import numpy as np\n",
        "\n",
        "from sklearn.linear_model import Ridge\n",
        "from sklearn.metrics import mean_squared_error\n",
        "from sklearn.feature_extraction import DictVectorizer\n",
        "\n",
        "from sklearn.tree import DecisionTreeClassifier\n",
        "from sklearn.feature_extraction import DictVectorizer\n",
        "from sklearn.metrics import roc_auc_score\n",
        "from sklearn.tree import export_text"
      ],
      "metadata": {
        "id": "HpD0p4bABwRy"
      },
      "execution_count": 5,
      "outputs": []
    },
    {
      "cell_type": "code",
      "source": [
        "df=pd.read_csv(\"housing.csv\")"
      ],
      "metadata": {
        "id": "jbiyfr7dB1cJ"
      },
      "execution_count": 6,
      "outputs": []
    },
    {
      "cell_type": "code",
      "source": [
        "def prepare_datax(df, seedval,fillnavalue):\n",
        "    \n",
        "    df=df[['latitude',\n",
        "            'longitude',\n",
        "            'housing_median_age',\n",
        "            'total_rooms',\n",
        "            'total_bedrooms',\n",
        "            'population',\n",
        "            'households',\n",
        "            'median_income',\n",
        "            'median_house_value',\n",
        "            'ocean_proximity']]\n",
        "    # Splitting of dataset into the train 60%, validation 20%, and the test 20 % dataset\n",
        "    df = df.copy()\n",
        "    n = len(df)\n",
        "    n_val = int(n * 0.2)            # Validation dataset\n",
        "    n_test = int(n * 0.2)           # Test dataset \n",
        "    n_train = n - n_val - n_test    # Train dataset\n",
        "    \n",
        "    #filling with zero in missing values\n",
        "    \n",
        "    #print(df.total_bedrooms.value_counts())\n",
        "    df[\"total_bedrooms\"] = df[\"total_bedrooms\"].fillna(fillnavalue)\n",
        "\n",
        "    \n",
        "    # suffle index\n",
        "    idx = np.arange(n)\n",
        "    np.random.seed(seedval)\n",
        "    np.random.shuffle(idx)\n",
        "    \n",
        "    #get train/val/test dataset\n",
        "    df_train = df.iloc[idx[:n_train]]\n",
        "    df_val = df.iloc[idx[n_train:n_train+n_val]]\n",
        "    df_test = df.iloc[idx[n_train+n_val:]]\n",
        "    \n",
        "    #reset index\n",
        "    df_train = df_train.reset_index(drop=True)\n",
        "    df_val = df_val.reset_index(drop=True)\n",
        "    df_test = df_test.reset_index(drop=True)\n",
        "    \n",
        "    \n",
        "    # Transformation of the y values\n",
        "    y_train = np.log1p(df_train.median_house_value.values)\n",
        "    y_val = np.log1p(df_val.median_house_value.values)\n",
        "    y_test = np.log1p(df_test.median_house_value.values)\n",
        "    \n",
        "    del df_train['median_house_value']\n",
        "    del df_val['median_house_value']\n",
        "    \n",
        "    del df_test['median_house_value']\n",
        "    \n",
        "    #train dictvectorizor\n",
        "    categorical = [\"ocean_proximity\"]\n",
        "    numerical=['latitude', 'longitude', 'housing_median_age',\"total_rooms\",\n",
        "           'total_bedrooms', 'population', 'households', 'median_income']\n",
        "    \n",
        "    train_dict = df_train[categorical + numerical].to_dict(orient='records')\n",
        "    dv = DictVectorizer(sparse=False)\n",
        "    dv.fit(train_dict)\n",
        "    X_train = dv.transform(train_dict)\n",
        "\n",
        "    test_dict = df_test[categorical + numerical].to_dict(orient='records')\n",
        "    X_test = dv.transform(test_dict)\n",
        "    \n",
        "    \n",
        "    val_dict = df_val[categorical + numerical].to_dict(orient='records')\n",
        "    X_val = dv.transform(val_dict)\n",
        "    \n",
        "    \n",
        "    return X_train,X_test,X_val,y_train,y_test,y_val,dv"
      ],
      "metadata": {
        "id": "AnzvRZ46B8il"
      },
      "execution_count": 7,
      "outputs": []
    },
    {
      "cell_type": "code",
      "source": [
        "X_train,X_test,X_val,y_train,y_test,y_val,dv= prepare_datax(df,1,0)"
      ],
      "metadata": {
        "id": "2-h4S0TDB_kG"
      },
      "execution_count": 8,
      "outputs": []
    },
    {
      "cell_type": "code",
      "source": [
        "features = dv.get_feature_names()\n"
      ],
      "metadata": {
        "id": "frbz9XZxBPp3"
      },
      "execution_count": 10,
      "outputs": []
    },
    {
      "cell_type": "code",
      "source": [
        "features"
      ],
      "metadata": {
        "colab": {
          "base_uri": "https://localhost:8080/"
        },
        "id": "L0yJow5iCSmJ",
        "outputId": "5d2e272a-c892-43c4-d8a9-3d19f5c08d19"
      },
      "execution_count": 12,
      "outputs": [
        {
          "output_type": "execute_result",
          "data": {
            "text/plain": [
              "['households',\n",
              " 'housing_median_age',\n",
              " 'latitude',\n",
              " 'longitude',\n",
              " 'median_income',\n",
              " 'ocean_proximity=<1H OCEAN',\n",
              " 'ocean_proximity=INLAND',\n",
              " 'ocean_proximity=ISLAND',\n",
              " 'ocean_proximity=NEAR BAY',\n",
              " 'ocean_proximity=NEAR OCEAN',\n",
              " 'population',\n",
              " 'total_bedrooms',\n",
              " 'total_rooms']"
            ]
          },
          "metadata": {},
          "execution_count": 12
        }
      ]
    },
    {
      "cell_type": "code",
      "source": [
        "import re\n",
        "\n",
        "regex = re.compile(r\"\\[|\\]|<\", re.IGNORECASE)\n",
        "\n",
        "\n",
        "\n",
        "features1 = [regex.sub(\"_\", col) if any(x in str(col) for x in set(('[', ']', '<'))) else col for col in features ]"
      ],
      "metadata": {
        "id": "d7X2rF9yFrhL"
      },
      "execution_count": 14,
      "outputs": []
    },
    {
      "cell_type": "code",
      "source": [
        "features1"
      ],
      "metadata": {
        "colab": {
          "base_uri": "https://localhost:8080/"
        },
        "id": "4UVUnIAHFzVf",
        "outputId": "f3f89620-a84d-4827-df7b-92598f188008"
      },
      "execution_count": 15,
      "outputs": [
        {
          "output_type": "execute_result",
          "data": {
            "text/plain": [
              "['households',\n",
              " 'housing_median_age',\n",
              " 'latitude',\n",
              " 'longitude',\n",
              " 'median_income',\n",
              " 'ocean_proximity=_1H OCEAN',\n",
              " 'ocean_proximity=INLAND',\n",
              " 'ocean_proximity=ISLAND',\n",
              " 'ocean_proximity=NEAR BAY',\n",
              " 'ocean_proximity=NEAR OCEAN',\n",
              " 'population',\n",
              " 'total_bedrooms',\n",
              " 'total_rooms']"
            ]
          },
          "metadata": {},
          "execution_count": 15
        }
      ]
    },
    {
      "cell_type": "code",
      "source": [
        "xgb_params = {\n",
        "    'eta': 0.3, \n",
        "    'max_depth': 6,\n",
        "    'min_child_weight': 1,\n",
        "    \n",
        "    'objective': 'reg:squarederror',\n",
        "    'nthread': 8,\n",
        "    \n",
        "    'seed': 1,\n",
        "    'verbosity': 1,\n",
        "}"
      ],
      "metadata": {
        "id": "sDy_Iq3wCwx7"
      },
      "execution_count": 16,
      "outputs": []
    },
    {
      "cell_type": "code",
      "source": [
        "dtrain = xgb.DMatrix(X_train, label=y_train, feature_names=features1)\n",
        "dval = xgb.DMatrix(X_val, label=y_val, feature_names=features1)"
      ],
      "metadata": {
        "id": "kqqyKinwCG7D"
      },
      "execution_count": 17,
      "outputs": []
    },
    {
      "cell_type": "code",
      "source": [
        "model = xgb.train(xgb_params, dtrain, num_boost_round=100)"
      ],
      "metadata": {
        "id": "z6Hsh4MxGavb"
      },
      "execution_count": 19,
      "outputs": []
    },
    {
      "cell_type": "code",
      "source": [
        "#model = xgb.train(xgb_params, dtrain, num_boost_round=100,verbose_eval=5, evals=watchlist)"
      ],
      "metadata": {
        "id": "Bbj1DtbrCOS4"
      },
      "execution_count": 20,
      "outputs": []
    },
    {
      "cell_type": "code",
      "source": [
        "y_pred = model.predict(dval)"
      ],
      "metadata": {
        "id": "AnrmIzgnGjOb"
      },
      "execution_count": 21,
      "outputs": []
    },
    {
      "cell_type": "code",
      "source": [
        "rmse_val = np.sqrt(mean_squared_error(y_val,y_pred))"
      ],
      "metadata": {
        "id": "gZug9YzBGrsK"
      },
      "execution_count": 23,
      "outputs": []
    },
    {
      "cell_type": "code",
      "source": [
        "rmse_val"
      ],
      "metadata": {
        "colab": {
          "base_uri": "https://localhost:8080/"
        },
        "id": "XwbHAcTuG2Vj",
        "outputId": "8d0b305f-f0b7-4f9a-e2a4-6a168a71be36"
      },
      "execution_count": 24,
      "outputs": [
        {
          "output_type": "execute_result",
          "data": {
            "text/plain": [
              "0.22821795570185202"
            ]
          },
          "metadata": {},
          "execution_count": 24
        }
      ]
    },
    {
      "cell_type": "code",
      "source": [
        "def train_XGboost(xgb_params):\n",
        "  dtrain = xgb.DMatrix(X_train, label=y_train, feature_names=features1)\n",
        "  dval = xgb.DMatrix(X_val, label=y_val, feature_names=features1)\n",
        "  model = xgb.train(xgb_params, dtrain, num_boost_round=100)\n",
        "  y_pred = model.predict(dval)\n",
        "  rmse_val = np.sqrt(mean_squared_error(y_val,y_pred))\n",
        "  return rmse_val\n"
      ],
      "metadata": {
        "id": "YKAJnsy2G50H"
      },
      "execution_count": 25,
      "outputs": []
    },
    {
      "cell_type": "code",
      "source": [
        "xgb_params = {\n",
        "    'eta': 0.1, \n",
        "    'max_depth': 6,\n",
        "    'min_child_weight': 1,\n",
        "    \n",
        "    'objective': 'reg:squarederror',\n",
        "    'nthread': 8,\n",
        "    \n",
        "    'seed': 1,\n",
        "    'verbosity': 1,\n",
        "}"
      ],
      "metadata": {
        "id": "6STpT_7bHilI"
      },
      "execution_count": 26,
      "outputs": []
    },
    {
      "cell_type": "code",
      "source": [
        "print( \"RMSE\", train_XGboost(xgb_params))"
      ],
      "metadata": {
        "colab": {
          "base_uri": "https://localhost:8080/"
        },
        "id": "P7Bg131cHnfS",
        "outputId": "2d1757f9-b3ad-4552-c5ab-2bfe6db1bf6c"
      },
      "execution_count": 27,
      "outputs": [
        {
          "output_type": "stream",
          "name": "stdout",
          "text": [
            "RMSE 0.2276690432902143\n"
          ]
        }
      ]
    },
    {
      "cell_type": "code",
      "source": [
        "xgb_params = {\n",
        "    'eta': 0.01, \n",
        "    'max_depth': 6,\n",
        "    'min_child_weight': 1,\n",
        "    \n",
        "    'objective': 'reg:squarederror',\n",
        "    'nthread': 8,\n",
        "    \n",
        "    'seed': 1,\n",
        "    'verbosity': 1,\n",
        "}"
      ],
      "metadata": {
        "id": "_br-Ft5tHu3-"
      },
      "execution_count": 28,
      "outputs": []
    },
    {
      "cell_type": "code",
      "source": [
        "print( \"RMSE\", train_XGboost(xgb_params))"
      ],
      "metadata": {
        "colab": {
          "base_uri": "https://localhost:8080/"
        },
        "id": "hlkzo4hrH1IT",
        "outputId": "71dfb495-1a1b-4d95-f0f3-d1b564fe9b06"
      },
      "execution_count": 29,
      "outputs": [
        {
          "output_type": "stream",
          "name": "stdout",
          "text": [
            "RMSE 4.263073942463008\n"
          ]
        }
      ]
    },
    {
      "cell_type": "code",
      "source": [],
      "metadata": {
        "id": "ngYowZ9_H2Yg"
      },
      "execution_count": null,
      "outputs": []
    }
  ]
}