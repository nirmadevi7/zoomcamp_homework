{
 "cells": [
  {
   "cell_type": "markdown",
   "metadata": {},
   "source": [
    "## Q1 Solution"
   ]
  },
  {
   "cell_type": "code",
   "execution_count": 1,
   "metadata": {},
   "outputs": [
    {
     "name": "stdout",
     "output_type": "stream",
     "text": [
      "{'get_card': True, 'get_card_probability': 0.7692649226628628}\n"
     ]
    }
   ],
   "source": [
    "!python3 q6_test.py"
   ]
  },
  {
   "cell_type": "markdown",
   "metadata": {},
   "source": [
    "## Q2  solution"
   ]
  },
  {
   "cell_type": "code",
   "execution_count": 1,
   "metadata": {},
   "outputs": [
    {
     "name": "stdout",
     "output_type": "stream",
     "text": [
      "kind version 0.15.0\n"
     ]
    }
   ],
   "source": [
    "!kind --version"
   ]
  },
  {
   "cell_type": "markdown",
   "metadata": {},
   "source": [
    "## Q3 Solution"
   ]
  },
  {
   "cell_type": "markdown",
   "metadata": {},
   "source": [
    "Pods are the smallest deployable units of computing that you can create and manage in Kubernetes.\n",
    "\n",
    "A Pod (as in a pod of whales or pea pod) is a group of one or more containers, with shared storage and network resources, and a specification for how to run the containers."
   ]
  },
  {
   "cell_type": "markdown",
   "metadata": {},
   "source": [
    "## Q4 solution"
   ]
  },
  {
   "cell_type": "code",
   "execution_count": 2,
   "metadata": {},
   "outputs": [
    {
     "name": "stdout",
     "output_type": "stream",
     "text": [
      "NAME          TYPE           CLUSTER-IP     EXTERNAL-IP   PORT(S)        AGE\n",
      "credit-card   LoadBalancer   10.96.111.88   <pending>     80:31063/TCP   4d20h\n",
      "kubernetes    ClusterIP      10.96.0.1      <none>        443/TCP        5d18h\n"
     ]
    }
   ],
   "source": [
    "!kubectl get services\n"
   ]
  },
  {
   "cell_type": "markdown",
   "metadata": {},
   "source": [
    "## Q5 solution "
   ]
  },
  {
   "cell_type": "markdown",
   "metadata": {},
   "source": [
    "Loading an Image Into Your Cluster\n",
    "Docker images can be loaded into your cluster nodes with:\n",
    "\n",
    "### kind load docker-image zoomcamp-model:v001"
   ]
  },
  {
   "cell_type": "markdown",
   "metadata": {},
   "source": [
    "## Q6 Solution"
   ]
  },
  {
   "cell_type": "code",
   "execution_count": null,
   "metadata": {},
   "outputs": [],
   "source": [
    "apiVersion: apps/v1\n",
    "kind: Deployment\n",
    "metadata:\n",
    "  name: credit-card\n",
    "spec:\n",
    "  selector:\n",
    "    matchLabels:\n",
    "      app: credit-card\n",
    "  replicas: 1\n",
    "  template:\n",
    "    metadata:\n",
    "      labels:\n",
    "        app: credit-card\n",
    "    spec:\n",
    "      containers:\n",
    "      - name: credit-card\n",
    "        image: zoomcamp-model:v001\n",
    "        resources:\n",
    "          requests:\n",
    "            memory: \"64Mi\"\n",
    "            cpu: \"100m\"            \n",
    "          limits:\n",
    "            memory: \"64Mi\"\n",
    "            cpu: \"100m\"\n",
    "        ports:\n",
    "        - containerPort: 9696"
   ]
  },
  {
   "cell_type": "markdown",
   "metadata": {},
   "source": [
    "## Q7 Solution "
   ]
  },
  {
   "cell_type": "code",
   "execution_count": null,
   "metadata": {},
   "outputs": [],
   "source": [
    "apiVersion: apps/v1\n",
    "kind: Deployment\n",
    "metadata:\n",
    "  name: credit-card\n",
    "spec:\n",
    "  selector:\n",
    "    matchLabels:\n",
    "      app: credit-card\n",
    "  replicas: 1\n",
    "  template:\n",
    "    metadata:\n",
    "      labels:\n",
    "        app: credit-card\n",
    "    spec:\n",
    "      containers:\n",
    "      - name: credit-card\n",
    "        image: zoomcamp-model:v001\n",
    "        resources:\n",
    "          requests:\n",
    "            memory: \"64Mi\"\n",
    "            cpu: \"100m\"            \n",
    "          limits:\n",
    "            memory: \"64Mi\"\n",
    "            cpu: \"100m\"\n",
    "        ports:\n",
    "        - containerPort: 9696\n"
   ]
  },
  {
   "cell_type": "markdown",
   "metadata": {},
   "source": []
  },
  {
   "cell_type": "markdown",
   "metadata": {},
   "source": [
    "## Q8 solution"
   ]
  },
  {
   "cell_type": "code",
   "execution_count": 10,
   "metadata": {},
   "outputs": [
    {
     "name": "stdout",
     "output_type": "stream",
     "text": [
      "NAME              REFERENCE                TARGETS         MINPODS   MAXPODS   REPLICAS   AGE\n",
      "credit-card-hpa   Deployment/credit-card   <unknown>/20%   1         3         1          4d19h\n"
     ]
    }
   ],
   "source": [
    "!kubectl get hpa credit-card-hpa "
   ]
  },
  {
   "cell_type": "code",
   "execution_count": null,
   "metadata": {},
   "outputs": [],
   "source": []
  }
 ],
 "metadata": {
  "kernelspec": {
   "display_name": "Python 3.10.6 ('week-7-Lz0kreyU')",
   "language": "python",
   "name": "python3"
  },
  "language_info": {
   "codemirror_mode": {
    "name": "ipython",
    "version": 3
   },
   "file_extension": ".py",
   "mimetype": "text/x-python",
   "name": "python",
   "nbconvert_exporter": "python",
   "pygments_lexer": "ipython3",
   "version": "3.10.6"
  },
  "orig_nbformat": 4,
  "vscode": {
   "interpreter": {
    "hash": "984ca47055b06ff41f4877e821060a912fe94426c7879f20f77bcd110e2b0dc1"
   }
  }
 },
 "nbformat": 4,
 "nbformat_minor": 2
}
